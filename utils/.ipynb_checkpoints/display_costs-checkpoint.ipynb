{
 "cells": [
  {
   "cell_type": "code",
   "execution_count": 1,
   "metadata": {
    "collapsed": false
   },
   "outputs": [
    {
     "name": "stdout",
     "output_type": "stream",
     "text": [
      "numpy.dtype has the wrong size, try recompiling\n",
      "numpy.dtype has the wrong size, try recompiling\n"
     ]
    }
   ],
   "source": [
    "import sys\n",
    "import cPickle as pkl\n",
    "import numpy as np\n",
    "from matplotlib import pyplot as plt\n",
    "\n",
    "# Give path to log file\n",
    "logfile = '/data/lisatmp3/firatorh/nmt/wmt15/trainedModels/multiEnc/multiEnc_FIDEEN_multiCG_fast/log'\n",
    "\n",
    "# Change this if necessary\n",
    "items = ['decoder_cost_cost_0', 'decoder_cost_cost_1', 'decoder_cost_cost_2']\n",
    "\n",
    "try:\n",
    "    d = {}\n",
    "    log = pkl.load(open(logfile))\n",
    "    for iter_, dc in log.iteritems():\n",
    "        if dc.keys()[0] in items:\n",
    "            idx = items.index(dc.keys()[0])\n",
    "            if items[idx] not in d:\n",
    "                d[items[idx]] = []\n",
    "            d[items[idx]].append(dc.values()[0])\n",
    "\n",
    "    for i, (key, val) in enumerate(d.iteritems()):\n",
    "        plt.subplot(len(d), 1, i)\n",
    "        plt.plot(np.asarray(xrange(len(val))), np.asarray(val))\n",
    "        plt.xlabel('Iter')\n",
    "        plt.ylabel('Cost')\n",
    "        plt.title(key)\n",
    "\n",
    "    plt.show()\n",
    "\n",
    "except Exception as e:\n",
    "    print str(e)\n"
   ]
  },
  {
   "cell_type": "code",
   "execution_count": null,
   "metadata": {
    "collapsed": true
   },
   "outputs": [],
   "source": []
  }
 ],
 "metadata": {
  "kernelspec": {
   "display_name": "Python 2",
   "language": "python",
   "name": "python2"
  },
  "language_info": {
   "codemirror_mode": {
    "name": "ipython",
    "version": 2
   },
   "file_extension": ".py",
   "mimetype": "text/x-python",
   "name": "python",
   "nbconvert_exporter": "python",
   "pygments_lexer": "ipython2",
   "version": "2.7.2"
  }
 },
 "nbformat": 4,
 "nbformat_minor": 0
}
